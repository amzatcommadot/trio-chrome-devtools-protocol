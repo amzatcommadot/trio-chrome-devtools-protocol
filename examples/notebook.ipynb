{
 "cells": [
  {
   "cell_type": "markdown",
   "metadata": {},
   "source": [
    "# Using Trio CDP Inside Jupyter Notebook\n",
    "\n",
    "Trio CDP can be used in Jupyter notebook, but some caveats are warranted. First, Trio support in Jupyter is experimental. Read [the instructions](https://github.com/ipython/ipykernel/pull/479) for setting up Trio inside Jupyter.\n",
    "\n",
    "The second caveat is that Trio CDP uses [context variables](https://docs.python.org/3.7/library/contextvars.html?highlight=contextvar#contextvars.ContextVar) to keep track of which connection and/or session are associated with each task. In Jupyter notebook, however, each cell executes in a separate task, so connections and sessions are not automatically shared between cells. This notebook contains a workaround that allows a single connection and session to be shared across cells."
   ]
  },
  {
   "cell_type": "code",
   "execution_count": 1,
   "metadata": {},
   "outputs": [],
   "source": [
    "from trio_cdp import connect_cdp, dom, page, target"
   ]
  },
  {
   "cell_type": "code",
   "execution_count": 2,
   "metadata": {},
   "outputs": [],
   "source": [
    "conn = await connect_cdp(GLOBAL_NURSERY,\n",
    "    'ws://127.0.0.1:9000/devtools/browser/f01f56ba-993e-4c83-adc0-10a1feb56449')"
   ]
  },
  {
   "cell_type": "code",
   "execution_count": 3,
   "metadata": {},
   "outputs": [],
   "source": [
    "# Here is where we have to do some magic to make the connection from the\n",
    "# previous cell available to other cells.\n",
    "import trio_cdp.context\n",
    "trio_cdp.context.set_global_connection(conn)"
   ]
  },
  {
   "cell_type": "code",
   "execution_count": 4,
   "metadata": {},
   "outputs": [],
   "source": [
    "# Now we can run Trio CDP commands and they execute on the connection\n",
    "# automatically.\n",
    "targets = await target.get_targets()"
   ]
  },
  {
   "cell_type": "code",
   "execution_count": 5,
   "metadata": {},
   "outputs": [
    {
     "data": {
      "text/plain": [
       "[TargetInfo(target_id=TargetID('0AF1752B5834E8ED9F36D7BC3D1AEF51'), type='page', title='Hyperion Gray', url='https://www.hyperiongray.com/', attached=False, opener_id=None, browser_context_id=BrowserContextID('B2A138B23272D6E4920555C2DE424E05')),\n",
       " TargetInfo(target_id=TargetID('A0CF2CC043BDF2E4F8F8C0514B9A2FD2'), type='page', title='Hyperion Gray', url='https://www.hyperiongray.com/', attached=False, opener_id=None, browser_context_id=BrowserContextID('B2A138B23272D6E4920555C2DE424E05'))]"
      ]
     },
     "execution_count": 5,
     "metadata": {},
     "output_type": "execute_result"
    }
   ],
   "source": [
    "targets"
   ]
  },
  {
   "cell_type": "code",
   "execution_count": 6,
   "metadata": {},
   "outputs": [],
   "source": [
    "session = await conn.connect_session(targets[0].target_id)"
   ]
  },
  {
   "cell_type": "code",
   "execution_count": 7,
   "metadata": {},
   "outputs": [],
   "source": [
    "# We have to do something similar for the session so that it can be\n",
    "# reused across multiple cells.\n",
    "trio_cdp.context.set_global_session(session)"
   ]
  },
  {
   "cell_type": "code",
   "execution_count": 8,
   "metadata": {},
   "outputs": [],
   "source": [
    "async with session.page_enable():\n",
    "    async with session.wait_for(page.LoadEventFired):\n",
    "        await page.navigate('https://www.hyperiongray.com')"
   ]
  },
  {
   "cell_type": "code",
   "execution_count": 9,
   "metadata": {},
   "outputs": [],
   "source": [
    "doc = await dom.get_document()"
   ]
  },
  {
   "cell_type": "code",
   "execution_count": 10,
   "metadata": {},
   "outputs": [],
   "source": [
    "title = await dom.query_selector(doc.node_id, 'title')"
   ]
  },
  {
   "cell_type": "code",
   "execution_count": 11,
   "metadata": {},
   "outputs": [
    {
     "data": {
      "text/plain": [
       "'<title>Hyperion Gray</title>'"
      ]
     },
     "execution_count": 11,
     "metadata": {},
     "output_type": "execute_result"
    }
   ],
   "source": [
    "await dom.get_outer_html(title)"
   ]
  }
 ],
 "metadata": {
  "kernelspec": {
   "display_name": "Python 3 Trio",
   "language": "python",
   "name": "python3-trio"
  },
  "language_info": {
   "codemirror_mode": {
    "name": "ipython",
    "version": 3
   },
   "file_extension": ".py",
   "mimetype": "text/x-python",
   "name": "python",
   "nbconvert_exporter": "python",
   "pygments_lexer": "ipython3",
   "version": "3.7.5"
  }
 },
 "nbformat": 4,
 "nbformat_minor": 4
}
